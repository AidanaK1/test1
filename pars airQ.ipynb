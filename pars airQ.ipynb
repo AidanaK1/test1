{
 "cells": [
  {
   "cell_type": "code",
   "execution_count": 1,
   "id": "08a7679d",
   "metadata": {},
   "outputs": [
    {
     "name": "stdout",
     "output_type": "stream",
     "text": [
      "Data saved to air_data.csv\n"
     ]
    }
   ],
   "source": [
    "import csv\n",
    "import requests\n",
    "\n",
    "# Function to get data from URL\n",
    "def get_air_quality_data(api_url):\n",
    "    try:\n",
    "        response = requests.get(api_url)\n",
    "        data = response.json()\n",
    "        if 'data' in data:\n",
    "            return data['data']\n",
    "        else:\n",
    "            return None\n",
    "    except Exception as e:\n",
    "        print(\"An error occurred:\", e)\n",
    "        return None\n",
    "\n",
    "API_URL = \"https://api.waqi.info/feed/Kazakhstan/?token=11fd32274c2e47d968cb2b26eddc1aa1378105c3\"\n",
    "\n",
    "# Write the data in the CSV\n",
    "def save_to_csv(data, filename):\n",
    "    with open(filename, 'w', newline='') as csvfile:\n",
    "        fieldnames = ['Date', 'AQI', 'PM2.5', 'PM10', 'NO2', 'SO2', 'CO']\n",
    "        writer = csv.DictWriter(csvfile, fieldnames=fieldnames)\n",
    "        \n",
    "        writer.writeheader()\n",
    "        writer.writerow({\n",
    "            'Date': data[\"time\"][\"s\"],\n",
    "            'AQI': data[\"aqi\"],\n",
    "            'PM2.5': data[\"iaqi\"][\"pm25\"]['v'],\n",
    "            'PM10': data[\"iaqi\"][\"pm10\"]['v'],\n",
    "            'NO2': data[\"iaqi\"][\"no2\"]['v'],\n",
    "            'SO2': data[\"iaqi\"][\"so2\"]['v'],\n",
    "            'CO': data[\"iaqi\"][\"co\"]['v']\n",
    "        })\n",
    "\n",
    "def main():\n",
    "    air_quality_data = get_air_quality_data(API_URL)\n",
    "    if air_quality_data:\n",
    "        save_to_csv(air_quality_data, 'air_data.csv')\n",
    "        print(\"Data saved to air_data.csv\")\n",
    "\n",
    "if __name__ == \"__main__\":\n",
    "    main()"
   ]
  },
  {
   "cell_type": "code",
   "execution_count": null,
   "id": "91198ada",
   "metadata": {},
   "outputs": [],
   "source": []
  }
 ],
 "metadata": {
  "kernelspec": {
   "display_name": "Python 3 (ipykernel)",
   "language": "python",
   "name": "python3"
  },
  "language_info": {
   "codemirror_mode": {
    "name": "ipython",
    "version": 3
   },
   "file_extension": ".py",
   "mimetype": "text/x-python",
   "name": "python",
   "nbconvert_exporter": "python",
   "pygments_lexer": "ipython3",
   "version": "3.9.13"
  }
 },
 "nbformat": 4,
 "nbformat_minor": 5
}
